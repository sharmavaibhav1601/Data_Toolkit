{
  "nbformat": 4,
  "nbformat_minor": 0,
  "metadata": {
    "colab": {
      "provenance": []
    },
    "kernelspec": {
      "name": "python3",
      "display_name": "Python 3"
    },
    "language_info": {
      "name": "python"
    }
  },
  "cells": [
    {
      "cell_type": "markdown",
      "source": [
        "#Data Toolkit\n",
        "#Theory Questions"
      ],
      "metadata": {
        "id": "Ucfy_ph-e_Oc"
      }
    },
    {
      "cell_type": "markdown",
      "source": [
        "1. What is NumPy, and why is it widely used in Python?\n",
        "-> NumPy (Numerical Python) is a fundamental library for numerical computing in Python. It provides support for large, multi-dimensional arrays and matrices, along with a collection of mathematical functions to operate on these arrays. NumPy is widely used in Python for several reasons:\n",
        "\n",
        "* Performance: NumPy is implemented in C, which allows for efficient computation and faster execution of operations compared to standard Python lists.\n",
        "* Functionality: It offers a wide range of mathematical functions, including linear algebra, statistical operations, and Fourier transforms, making it suitable for scientific computing.\n",
        "*Interoperability: NumPy arrays can be easily integrated with other libraries, such as Pandas, Matplotlib, and SciPy, enhancing its utility in data analysis and visualization.\n",
        "* Ease of Use: The array-oriented programming model simplifies complex mathematical operations, making it easier for users to write concise and readable code.\n",
        "\n",
        "2. How does broadcasting work in NumPy?\n",
        "-> Broadcasting in NumPy refers to the ability to perform arithmetic operations on arrays of different shapes and sizes. When performing operations on arrays, NumPy automatically expands the smaller array to match the shape of the larger array, allowing for element-wise operations without the need for explicit replication of data.\n",
        "The rules of broadcasting are as follows:\n",
        "\n",
        "* If the arrays have different numbers of dimensions, the shape of the smaller array is padded with ones on the left side until both shapes are the same.\n",
        "* If the sizes of the dimensions do not match, NumPy checks if one of the dimensions is 1. If so, it stretches that dimension to match the other array's size.\n",
        "* If the sizes of the dimensions do not match and neither is 1, broadcasting fails, and an error is raised.\n",
        "For example, if you have a 1D array of shape (3,) and a 2D array of shape (3, 4), NumPy will broadcast the 1D array across the second dimension of the 2D array, allowing for element-wise operations.\n",
        "\n",
        "3. What is a Pandas DataFrame?\n",
        "-> A Pandas DataFrame is a two-dimensional, size-mutable, and potentially heterogeneous tabular data structure with labeled axes (rows and columns). It is similar to a spreadsheet or SQL table and is one of the primary data structures in the Pandas library. DataFrames allow for easy manipulation, analysis, and visualization of data.\n",
        "\n",
        "4. Explain the use of the groupby() method in Pandas.\n",
        "-> The groupby() method in Pandas is used to split the data into groups based on some criteria. It allows you to perform operations on these groups, such as aggregation, transformation, or filtering. For example, you can group data by a specific column and then calculate the mean, sum, or count for each group. This is particularly useful for summarizing data and performing exploratory data analysis.\n",
        "\n",
        "5. Why is Seaborn preferred for statistical visualizations?\n",
        "-> Seaborn is preferred for statistical visualizations because it provides a high-level interface for drawing attractive and informative statistical graphics. It is built on top of Matplotlib and integrates well with Pandas DataFrames. Seaborn simplifies the process of creating complex visualizations, such as heatmaps, violin plots, and pair plots, while also providing better default aesthetics and color palettes.\n",
        "\n",
        "6. What are the differences between NumPy arrays and Python lists?\n",
        "* Performance: NumPy arrays are more efficient for numerical operations and consume less memory than Python lists.\n",
        "* Homogeneity: NumPy arrays are homogeneous, meaning all elements must be of the same data type, while Python lists can contain mixed data types.\n",
        "* Functionality: NumPy provides a wide range of mathematical functions and operations that can be performed on arrays, while Python lists do not have built-in support for mathematical operations.\n",
        "\n",
        "7. What is a heatmap, and when should it be used?\n",
        "-> A heatmap is a data visualization technique that uses color to represent the values of a matrix or a two-dimensional dataset. It is particularly useful for visualizing correlations, patterns, and the density of data points. Heatmaps are commonly used in exploratory data analysis to identify relationships between variables or to visualize the distribution of data.\n",
        "\n",
        "8. What does the term “vectorized operation” mean in NumPy?\n",
        "-> Vectorized operations in NumPy refer to the ability to perform operations on entire arrays or large datasets without the need for explicit loops. This is achieved through the use of NumPy's underlying C and Fortran libraries, which allow for efficient computation. Vectorized operations lead to faster execution and more concise code, as they enable element-wise operations on arrays.\n",
        "\n",
        "9. How does Matplotlib differ from Plotly?\n",
        "->Interactivity: Plotly provides interactive visualizations that allow users to hover, zoom, and click on elements, while Matplotlib primarily produces static plots.\n",
        "\n",
        "-> Ease of Use: Plotly has a more user-friendly API for creating complex visualizations, while Matplotlib can require more code for similar results.\n",
        "\n",
        "-> Output Formats: Plotly visualizations can be easily embedded in web applications, while Matplotlib is more suited for generating static images for reports and publications.\n",
        "\n",
        "10. What is the significance of hierarchical indexing in Pandas?\n",
        "-> Hierarchical indexing (or multi-indexing) in Pandas allows for multiple levels of indexing on a DataFrame or Series. This is significant because it enables more complex data structures and facilitates easier data manipulation and analysis. Hierarchical indexing is useful for working with higher-dimensional data in a two-dimensional format, allowing for more intuitive data slicing and aggregation.\n",
        "\n",
        "11. What is the role of Seaborn’s pairplot() function?\n",
        "-> Seaborn’s pairplot() function is used to create a grid of scatter plots for visualizing the pairwise relationships between multiple variables in a dataset. It is particularly useful for exploratory data analysis, as it allows you to quickly assess the relationships and distributions of different features in a DataFrame.\n",
        "\n",
        "Key features of pairplot() include:\n",
        "* Scatter Plots: It generates scatter plots for each pair of variables, helping to visualize correlations.\n",
        "\n",
        "* Diagonal Plots: The diagonal of the grid can display histograms or kernel density estimates (KDE) to show the distribution of each variable.\n",
        "\n",
        "* Hue Parameter: You can use the hue parameter to color the points based on a categorical variable, which helps in understanding how different categories relate to the numerical variables.\n",
        "\n",
        "\n",
        "Overall, pairplot() is a powerful tool for visualizing complex datasets and identifying patterns or relationships among variables.\n",
        "\n",
        "12. What is the purpose of the describe() function in Pandas?\n",
        "-> The describe() function in Pandas is used to generate descriptive statistics of a DataFrame or Series. It provides a quick overview of the central tendency, dispersion, and shape of the dataset's distribution.\n",
        "\n",
        "Key outputs of the describe() function include:\n",
        "* Count: The number of non-null entries.\n",
        "* Mean: The average value of the numerical columns.\n",
        "* Standard Deviation (std): A measure of the amount of variation or dispersion in the dataset.\n",
        "* Minimum (min): The smallest value in the dataset.\n",
        "* 25th, 50th (median), and 75th Percentiles: These values provide insights into the distribution of the data.\n",
        "* Maximum (max): The largest value in the dataset.\n",
        "\n",
        "The describe() function is particularly useful for quickly summarizing the characteristics of numerical data and identifying potential outliers or anomalies.\n",
        "\n",
        "13. Why is handling missing data important in Pandas?\n",
        "-> Handling missing data is crucial in Pandas because missing values can lead to inaccurate analyses and results. If not addressed, they can skew statistical calculations, affect model performance, and lead to biased conclusions. Pandas provides various methods to identify, fill, or drop missing values, allowing for cleaner datasets and more reliable analyses.\n",
        "\n",
        "\n",
        "14. What are the benefits of using Plotly for data visualization?\n",
        "-> Plotly is a powerful library for creating interactive visualizations. Some of its key benefits include:\n",
        "* Interactivity: Plotly visualizations are interactive by default, allowing users to hover, zoom, and pan, which enhances data exploration.\n",
        "* Web Integration: Plotly graphs can be easily embedded in web applications and dashboards, making it suitable for sharing insights online.\n",
        "* Wide Range of Charts: It supports a variety of chart types, including 3D plots, contour plots, and geographic maps, catering to diverse visualization needs.\n",
        "* Customization: Plotly offers extensive customization options for styling and layout, allowing users to create visually appealing graphics.\n",
        "* Integration with Dash: Plotly can be integrated with Dash, a framework for building web applications, enabling the creation of interactive dashboards.\n",
        "\n",
        "\n",
        "15. How does NumPy handle multidimensional arrays?\n",
        "-> NumPy handles multidimensional arrays through its core data structure called ndarray. Key features include:\n",
        "\n",
        "* N-Dimensional Support: NumPy can create arrays with any number of dimensions (1D, 2D, 3D, etc.), allowing for complex data representations.\n",
        "* Efficient Storage: Multidimensional arrays are stored in contiguous blocks of memory, which improves performance for mathematical operations.\n",
        "* Array Operations: NumPy supports element-wise operations and broadcasting, enabling efficient computations across multidimensional arrays without the need for explicit loops.\n",
        "\n",
        "\n",
        "16. What is the role of Bokeh in data visualization?\n",
        "-> Bokeh is a Python library for creating interactive and visually appealing plots and dashboards. Its key roles include:\n",
        "* Interactivity: Bokeh allows users to create interactive plots that can respond to user inputs, such as sliders and dropdowns.\n",
        "* Web-Ready: Bokeh visualizations can be easily embedded in web applications, making it suitable for sharing insights online.\n",
        "* Large Datasets: It is designed to handle large datasets efficiently, allowing for real-time streaming and updates.\n",
        "* Customizable: Bokeh provides extensive customization options for creating complex visualizations tailored to specific needs.\n",
        "\n",
        "\n",
        "17. Explain the difference between apply() and map() in Pandas.\n",
        "* apply(): This function is used to apply a function along an axis of the DataFrame (rows or columns) or to a Series. It can take a function that operates on entire rows or columns, making it versatile for complex operations.\n",
        "* map(): This function is primarily used with Series to apply a function element-wise. It is generally used for transforming or mapping values in a Series and is simpler than apply() for this purpose.\n",
        "\n",
        "\n",
        "18. What are some advanced features of NumPy?\n",
        "-> Some advanced features of NumPy include:\n",
        "* Broadcasting: Allows operations on arrays of different shapes without explicit replication.\n",
        "*  Fancy Indexing: Enables advanced indexing techniques, such as using arrays of indices to access multiple elements.\n",
        "*  Linear Algebra Functions: Provides a suite of functions for linear algebra operations, including matrix multiplication and eigenvalue decomposition.\n",
        "* Random Number Generation: Includes a module for generating random numbers and performing random sampling.\n",
        "* Fourier Transforms: Supports fast Fourier transforms for frequency analysis.\n",
        "\n",
        "\n",
        "\n",
        "\n",
        "\n",
        "\n",
        "\n",
        "19. How does Pandas simplify time series analysis?\n",
        "-> Pandas simplifies time series analysis through:\n",
        "\n",
        "* Datetime Indexing: It allows for easy indexing and slicing of time series data using datetime objects.\n",
        "\n",
        "* Resampling: Provides functionality to resample time series data to different frequencies (e.g., daily to monthly).\n",
        "* Time Zone Handling: Supports time zone conversions and operations on time zone-aware datetime objects.\n",
        "\n",
        "\n",
        "* Rolling Statistics: Offers methods for calculating rolling statistics, such as moving averages, which are essential for time series analysis.\n",
        "\n",
        "\n",
        "\n",
        "\n",
        "\n",
        "\n",
        "\n",
        "20. What is the role of a pivot table in Pandas?\n",
        "-> A pivot table in Pandas is used to summarize and aggregate data. It allows users to:\n",
        "\n",
        "\n",
        "* Reshape Data: Transform long-format data into a wide format, making it easier to analyze.\n",
        "* Aggregation**: Perform aggregation operations (e.g., sum, mean) on specified columns based on unique values in other columns.\n",
        "* Multi-dimensional Analysis: Create multi-dimensional summaries by specifying multiple index and column variables.\n",
        "\n",
        "21. Why is NumPy’s array slicing faster than Python’s list slicing?\n",
        "-> NumPy’s array slicing is faster than Python’s list slicing because:\n",
        "* Contiguous Memory: NumPy arrays are stored in contiguous memory blocks, allowing for efficient access and manipulation of data.\n",
        "* No Type Checking: NumPy arrays have a fixed data type, which eliminates the need for type checking during slicing operations.\n",
        "* Optimized C Implementation: NumPy is implemented in C, which allows for optimized performance for array operations compared to Python’s list operations.\n",
        "\n",
        "22. What are some common use cases for Seaborn?\n",
        "-> Common use cases for Seaborn include:\n",
        "* Statistical Data Visualization: Creating visualizations that represent statistical relationships, such as regression plots and distribution plots.\n",
        "* Categorical Data Analysis: Visualizing relationships between categorical and numerical variables using box plots, violin plots, and bar plots.\n",
        "* Heatmaps: Displaying correlation matrices and other matrix-like data in a visually appealing format.\n",
        "* Pairwise Relationships: Using pairplot() to explore pairwise relationships in datasets with multiple variables.\n",
        "\n"
      ],
      "metadata": {
        "id": "V6rs_oJYfHeO"
      }
    },
    {
      "cell_type": "markdown",
      "source": [
        "#Practical Questions"
      ],
      "metadata": {
        "id": "cgE14RD5smRX"
      }
    },
    {
      "cell_type": "code",
      "source": [
        "#1. How do you create a 2D NumPy array and calculate the sum of each row?\n",
        "import numpy as np\n",
        "\n",
        "# Create a 2D NumPy array\n",
        "array_2d = np.array([[1, 2, 3], [4, 5, 6], [7, 8, 9]])\n",
        "\n",
        "# Calculate the sum of each row\n",
        "row_sums = np.sum(array_2d, axis=1)\n",
        "print(row_sums)"
      ],
      "metadata": {
        "id": "OHgHaqwRshxH"
      },
      "execution_count": null,
      "outputs": []
    },
    {
      "cell_type": "code",
      "source": [
        "#2. Write a Pandas script to find the mean of a specific column in a DataFrame\n",
        "import pandas as pd\n",
        "\n",
        "# Sample data\n",
        "data = {\n",
        "    'A': [1, 2, 3, 4, 5],\n",
        "    'B': [10, 20, 30, 40, 50]\n",
        "}\n",
        "df = pd.DataFrame(data)\n",
        "\n",
        "# Find the mean of column 'B'\n",
        "mean_B = df['B'].mean()\n",
        "print(mean_B)"
      ],
      "metadata": {
        "id": "njMZ7NP3xBJQ"
      },
      "execution_count": null,
      "outputs": []
    },
    {
      "cell_type": "code",
      "source": [
        "#3. Create a scatter plot using Matplotlib\n",
        "import matplotlib.pyplot as plt\n",
        "\n",
        "# Sample data\n",
        "x = [1, 2, 3, 4, 5]\n",
        "y = [2, 3, 5, 7, 11]\n",
        "\n",
        "# Create scatter plot\n",
        "plt.scatter(x, y)\n",
        "plt.xlabel('X-axis')\n",
        "plt.ylabel('Y-axis')\n",
        "plt.title('Scatter Plot using Matplotlib')\n",
        "plt.show()"
      ],
      "metadata": {
        "id": "xEHkypLhxW9h"
      },
      "execution_count": null,
      "outputs": []
    },
    {
      "cell_type": "code",
      "source": [
        "# 4. How do you calculate the correlation matrix using Seaborn and visualize it with a heatmap?\n",
        "import seaborn as sns\n",
        "import pandas as pd\n",
        "import numpy as np\n",
        "\n",
        "# Sample data\n",
        "data = {\n",
        "    'A': np.random.rand(10),\n",
        "    'B': np.random.rand(10),\n",
        "    'C': np.random.rand(10),\n",
        "    'D': np.random.rand(10)\n",
        "}\n",
        "df = pd.DataFrame(data)\n",
        "\n",
        "# Calculate correlation matrix\n",
        "correlation_matrix = df.corr()\n",
        "\n",
        "# Visualize with heatmap\n",
        "sns.heatmap(correlation_matrix, annot=True, cmap='coolwarm')\n",
        "plt.title('Correlation Matrix Heatmap')\n",
        "plt.show()"
      ],
      "metadata": {
        "id": "RuoSLuioxfRa"
      },
      "execution_count": null,
      "outputs": []
    },
    {
      "cell_type": "code",
      "source": [
        "#5. Generate a bar plot using Plotly\n",
        "import plotly.graph_objects as go\n",
        "\n",
        "# Sample data\n",
        "categories = ['A', 'B', 'C', 'D']\n",
        "values = [10, 15, 7, 12]\n",
        "\n",
        "# Create bar plot\n",
        "fig = go.Figure(data=[go.Bar(x=categories, y=values)])\n",
        "fig.update_layout(title='Bar Plot using Plotly', xaxis_title='Categories', yaxis_title='Values')\n",
        "fig.show()"
      ],
      "metadata": {
        "id": "5H3XJaNpxtpG"
      },
      "execution_count": null,
      "outputs": []
    },
    {
      "cell_type": "code",
      "source": [
        "#6. Create a DataFrame and add a new column based on an existing column\n",
        "import pandas as pd\n",
        "\n",
        "# Sample data\n",
        "data = {\n",
        "    'A': [1, 2, 3, 4, 5],\n",
        "    'B': [10, 20, 30, 40, 50]\n",
        "}\n",
        "df = pd.DataFrame(data)\n",
        "\n",
        "# Add new column based on existing column\n",
        "df['C'] = df['A'] * 2\n",
        "print(df)"
      ],
      "metadata": {
        "id": "z8XasCeIx7eo"
      },
      "execution_count": null,
      "outputs": []
    },
    {
      "cell_type": "code",
      "source": [
        "#7. Write a program to perform element-wise multiplication of two NumPy arrays\n",
        "import numpy as np\n",
        "\n",
        "# Sample data\n",
        "array1 = np.array([1, 2, 3, 4, 5])\n",
        "array2 = np.array([10, 20, 30, 40, 50])\n",
        "\n",
        "# Element-wise multiplication\n",
        "result = array1 * array2\n",
        "print(result)"
      ],
      "metadata": {
        "id": "ykil7_XpycqM"
      },
      "execution_count": null,
      "outputs": []
    },
    {
      "cell_type": "code",
      "source": [
        "#8. Create a line plot with multiple lines using Matplotlib\n",
        "import matplotlib.pyplot as plt\n",
        "\n",
        "# Sample data\n",
        "x = [1, 2, 3, 4, 5]\n",
        "y1 = [2, 3, 5, 7, 11]\n",
        "y2 = [1, 4, 6, 8, 10]\n",
        "\n",
        "# Create line plot\n",
        "plt.plot(x, y1, label='Line 1')\n",
        "plt.plot(x, y2, label='Line 2')\n",
        "plt.xlabel('X-axis')\n",
        "plt.ylabel('Y-axis')\n",
        "plt.title('Line Plot with Multiple Lines using Matplotlib')\n",
        "plt.legend()\n",
        "plt.show()"
      ],
      "metadata": {
        "id": "6t_4S9mhyqaq"
      },
      "execution_count": null,
      "outputs": []
    },
    {
      "cell_type": "code",
      "source": [
        "#9. Generate a Pandas DataFrame and filter rows where a column value is greater than a threshold\n",
        "import pandas as pd\n",
        "\n",
        "# Sample data\n",
        "data = {\n",
        "    'A': [1, 2, 3, 4, 5],\n",
        "    'B': [10, 20, 30, 40, 50]\n",
        "}\n",
        "df = pd.DataFrame(data)\n",
        "\n",
        "# Filter rows where column 'B' value is greater than 25\n",
        "filtered_df = df[df['B'] > 25]\n",
        "print(filtered_df)"
      ],
      "metadata": {
        "id": "3A0WT16SywFz"
      },
      "execution_count": null,
      "outputs": []
    },
    {
      "cell_type": "code",
      "source": [
        "#10. Create a histogram using Seaborn to visualize a distribution\n",
        "import seaborn as sns\n",
        "import numpy as np\n",
        "\n",
        "# Sample data\n",
        "data = np.random.randn(100)\n",
        "\n",
        "# Create histogram\n",
        "sns.histplot(data, kde=True)\n",
        "plt.title('Histogram using Seaborn')\n",
        "plt.show()"
      ],
      "metadata": {
        "id": "Cxji4Neiy4ar"
      },
      "execution_count": null,
      "outputs": []
    },
    {
      "cell_type": "code",
      "source": [
        "#11. Perform matrix multiplication using NumPy\n",
        "import numpy as np\n",
        "\n",
        "# Sample data\n",
        "matrix1 = np.array([[1, 2], [3, 4]])\n",
        "matrix2 = np.array([[5, 6], [7, 8]])\n",
        "\n",
        "# Matrix multiplication\n",
        "result = np.dot(matrix1, matrix2)\n",
        "print(result)"
      ],
      "metadata": {
        "id": "YRef0lJfzPz_"
      },
      "execution_count": null,
      "outputs": []
    },
    {
      "cell_type": "code",
      "source": [
        "#12. Use Pandas to load a CSV file and display its first 5 rows\n",
        "import pandas as pd\n",
        "\n",
        "# Load CSV file\n",
        "df = pd.read_csv('sample.csv') #give the csv file path here\n",
        "\n",
        "# Display first 5 rows\n",
        "print(df.head())"
      ],
      "metadata": {
        "id": "uN8r5myOzSsl"
      },
      "execution_count": null,
      "outputs": []
    },
    {
      "cell_type": "code",
      "source": [
        "#13. Create a 3D scatter plot using Plotly\n",
        "import plotly.graph_objects as go\n",
        "\n",
        "# Sample data\n",
        "x = [1, 2, 3, 4, 5]\n",
        "y = [2, 3, 5, 7, 11]\n",
        "z = [5, 6, 2, 8, 3]\n",
        "\n",
        "# Create 3D scatter plot\n",
        "fig = go.Figure(data=[go.Scatter3d(x=x, y=y, z=z, mode='markers')])\n",
        "fig.update_layout(title='3D Scatter Plot using Plotly', scene=dict(xaxis_title='X-axis', yaxis_title='Y-axis', zaxis_title='Z-axis'))\n",
        "fig.show()"
      ],
      "metadata": {
        "id": "VVTr5oTOzaMH"
      },
      "execution_count": null,
      "outputs": []
    }
  ]
}